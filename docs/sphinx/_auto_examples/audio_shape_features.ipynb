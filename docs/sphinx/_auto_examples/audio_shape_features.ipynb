{
  "cells": [
    {
      "cell_type": "code",
      "execution_count": null,
      "metadata": {
        "collapsed": false
      },
      "outputs": [],
      "source": [
        "%matplotlib inline"
      ]
    },
    {
      "cell_type": "markdown",
      "metadata": {},
      "source": [
        "\nCompute robust audio features using 2D wavelets\n===============================================\n\n\n\nDependencies: To execute this example you will need to have instaled the Python packages\nmatplotlib, scikit-image and scikit-learn.\n"
      ]
    },
    {
      "cell_type": "code",
      "execution_count": null,
      "metadata": {
        "collapsed": false
      },
      "outputs": [],
      "source": [
        "import matplotlib.pyplot as plt\nfrom maad import sound, features, rois\nfrom maad.util import power2dB, plot2D, format_features\n\nplt.close('all')"
      ]
    },
    {
      "cell_type": "markdown",
      "metadata": {},
      "source": [
        "First, load and audio file and compute the spectrogram.\n\n"
      ]
    },
    {
      "cell_type": "code",
      "execution_count": null,
      "metadata": {
        "collapsed": false
      },
      "outputs": [],
      "source": [
        "s, fs = sound.load('../data/spinetail.wav')\n#s, fs = sound.load('/Users/jsulloa/Downloads/usignolo.wav')\ns = s[0:30*fs]\nSxx, tn, fn, ext = sound.spectrogram(s, fs, nperseg=1024, noverlap=512)\n\ndb_max=70\nSxx_db = power2dB(Sxx, db_range=db_max) + db_max\nplot2D(Sxx_db, **{'figsize':(4,10),'extent':ext})"
      ]
    },
    {
      "cell_type": "markdown",
      "metadata": {},
      "source": [
        "Find Rois\n\n"
      ]
    },
    {
      "cell_type": "code",
      "execution_count": null,
      "metadata": {
        "collapsed": false
      },
      "outputs": [],
      "source": [
        "Sxx_db_smooth = sound.smooth(Sxx_db, std=1, display=False,\n                             **{'vmin':0, 'vmax':db_max, 'extent':ext})\n\nim_mask = rois.create_mask(im=Sxx_db_smooth, mode_bin ='relative', bin_std=6, bin_per=0.5)\nim_rois, df_rois = rois.select_rois(im_mask, min_roi=25, max_roi=None, display=True, **{'extent':ext})\n\ndf_rois = format_features(df_rois, tn, fn)\n\n# overlay bounding box on the original spectrogram\nax0, fig0 = rois.overlay_rois(Sxx_db, df_rois, **{'vmin':0, 'vmax':db_max, 'extent':ext})"
      ]
    },
    {
      "cell_type": "code",
      "execution_count": null,
      "metadata": {
        "collapsed": false
      },
      "outputs": [],
      "source": [
        "df_shape, params = features.shape_features(Sxx_db, resolution='low', rois=df_rois)"
      ]
    },
    {
      "cell_type": "code",
      "execution_count": null,
      "metadata": {
        "collapsed": false
      },
      "outputs": [],
      "source": [
        "features.plot_shape(df_shape.mean(), params)"
      ]
    }
  ],
  "metadata": {
    "kernelspec": {
      "display_name": "Python 3",
      "language": "python",
      "name": "python3"
    },
    "language_info": {
      "codemirror_mode": {
        "name": "ipython",
        "version": 3
      },
      "file_extension": ".py",
      "mimetype": "text/x-python",
      "name": "python",
      "nbconvert_exporter": "python",
      "pygments_lexer": "ipython3",
      "version": "3.7.5"
    }
  },
  "nbformat": 4,
  "nbformat_minor": 0
}