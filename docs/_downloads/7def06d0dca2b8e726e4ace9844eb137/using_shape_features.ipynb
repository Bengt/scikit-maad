{
  "cells": [
    {
      "cell_type": "code",
      "execution_count": null,
      "metadata": {
        "collapsed": false
      },
      "outputs": [],
      "source": [
        "%matplotlib inline"
      ]
    },
    {
      "cell_type": "markdown",
      "metadata": {},
      "source": [
        "\nUsing wavelets to characterize the time-frequency shape of sounds\n=================================================================\n\n@author:\n"
      ]
    },
    {
      "cell_type": "code",
      "execution_count": null,
      "metadata": {
        "collapsed": false
      },
      "outputs": [],
      "source": [
        "from maad.sound import load, spectrogram\nfrom maad.features import shape_features, filter_bank_2d_nodc, opt_shape_presets, plot_shape\nfrom maad.util import format_rois, read_audacity_annot\nfrom maad.rois import overlay_rois\nimport numpy as np\n\ns, fs = load('./data/spinetail.wav')\nrois_tf = read_audacity_annot('./data/spinetail.txt')  ## annotations using Audacity\nrois_cr = rois_tf.loc[rois_tf.label=='CRER',]  \nrois_sp = rois_tf.loc[rois_tf.label=='SP',]\n\nSxx, ts, f, ext = spectrogram(s, fs)\nSxx = np.log10(Sxx)\n\n# Visualize large vocalizations\nrois_bbox = format_rois(rois_cr, ts, f, fmt='bbox')\noverlay_rois(Sxx, ext, rois_bbox.values.tolist(), vmin=-16, vmax=0)\n\n# Visualize short vocalizations\nrois_bbox = format_rois(rois_sp, ts, f, fmt='bbox')\noverlay_rois(Sxx, ext, rois_bbox.values.tolist(), vmin=-16, vmax=0)\n\n# Compute an visualize features\nshape_cr, params = shape_features(Sxx, ts, f, resolution='high', rois=rois_cr)\nax = plot_shape(shape_cr.mean(), params)\n\nshape_sp, params = shape_features(Sxx, ts, f, resolution='high', rois=rois_sp)\nax = plot_shape(shape_sp.mean(), params)\n\n# visualize using t-SNE"
      ]
    }
  ],
  "metadata": {
    "kernelspec": {
      "display_name": "Python 3",
      "language": "python",
      "name": "python3"
    },
    "language_info": {
      "codemirror_mode": {
        "name": "ipython",
        "version": 3
      },
      "file_extension": ".py",
      "mimetype": "text/x-python",
      "name": "python",
      "nbconvert_exporter": "python",
      "pygments_lexer": "ipython3",
      "version": "3.7.5"
    }
  },
  "nbformat": 4,
  "nbformat_minor": 0
}